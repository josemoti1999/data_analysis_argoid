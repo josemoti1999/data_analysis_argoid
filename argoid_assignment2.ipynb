{
  "nbformat": 4,
  "nbformat_minor": 0,
  "metadata": {
    "colab": {
      "name": "argoid_assignment2.ipynb",
      "provenance": [],
      "mount_file_id": "1mONfHVGyk8d_84_bslQnPLYIcwG8AJ2G",
      "authorship_tag": "ABX9TyOQekT/3mqFCs+PIy5/zQzM",
      "include_colab_link": true
    },
    "kernelspec": {
      "name": "python3",
      "display_name": "Python 3"
    }
  },
  "cells": [
    {
      "cell_type": "markdown",
      "metadata": {
        "id": "view-in-github",
        "colab_type": "text"
      },
      "source": [
        "<a href=\"https://colab.research.google.com/github/josemoti1999/data_analysis_argoid/blob/master/argoid_assignment2.ipynb\" target=\"_parent\"><img src=\"https://colab.research.google.com/assets/colab-badge.svg\" alt=\"Open In Colab\"/></a>"
      ]
    },
    {
      "cell_type": "markdown",
      "metadata": {
        "id": "Q5HSg3EjmGl8",
        "colab_type": "text"
      },
      "source": [
        "#Assignment 2\n"
      ]
    },
    {
      "cell_type": "markdown",
      "metadata": {
        "id": "XpuRc29mnTwM",
        "colab_type": "text"
      },
      "source": [
        "###Introduction\n",
        "In this notebook we will predict the items bought together with a given item. The final dictionary is saved as **'answer_dict.pickle'**. The itemcodes to label description conversion is done with **'label_dict.pickle'**. See Answers display section for final answers."
      ]
    },
    {
      "cell_type": "markdown",
      "metadata": {
        "id": "7-2Lr_J6QVLQ",
        "colab_type": "text"
      },
      "source": [
        "Give the link to the folder here remaining part is unchanged."
      ]
    },
    {
      "cell_type": "code",
      "metadata": {
        "id": "s2QaZ2SFLn1a",
        "colab_type": "code",
        "colab": {
          "base_uri": "https://localhost:8080/",
          "height": 34
        },
        "outputId": "2ee05330-c472-4193-b85d-cc5fa5720117"
      },
      "source": [
        "cd /content/drive/My Drive/Kaggle"
      ],
      "execution_count": 1,
      "outputs": [
        {
          "output_type": "stream",
          "text": [
            "/content/drive/My Drive/Kaggle\n"
          ],
          "name": "stdout"
        }
      ]
    },
    {
      "cell_type": "code",
      "metadata": {
        "id": "mVsMJ1SqwDdF",
        "colab_type": "code",
        "colab": {}
      },
      "source": [
        "import pandas as pd"
      ],
      "execution_count": 0,
      "outputs": []
    },
    {
      "cell_type": "code",
      "metadata": {
        "id": "D-kdKB9oLoJC",
        "colab_type": "code",
        "colab": {
          "base_uri": "https://localhost:8080/",
          "height": 34
        },
        "outputId": "3e852a81-6242-4a31-e797-50b388ffd141"
      },
      "source": [
        "df_final=pd.read_csv('cleaned_data.csv')\n",
        "df_final.shape"
      ],
      "execution_count": 5,
      "outputs": [
        {
          "output_type": "execute_result",
          "data": {
            "text/plain": [
              "(534062, 8)"
            ]
          },
          "metadata": {
            "tags": []
          },
          "execution_count": 5
        }
      ]
    },
    {
      "cell_type": "code",
      "metadata": {
        "id": "SCNbMESHNA0o",
        "colab_type": "code",
        "colab": {}
      },
      "source": [
        "df_final = df_final[df_final['ItemCode']!=-1]"
      ],
      "execution_count": 0,
      "outputs": []
    },
    {
      "cell_type": "code",
      "metadata": {
        "id": "53T_XTgFOK5H",
        "colab_type": "code",
        "colab": {
          "base_uri": "https://localhost:8080/",
          "height": 272
        },
        "outputId": "a00b26a2-fdad-4d42-ca3f-60ef69a8ee61"
      },
      "source": [
        "df_final.info()"
      ],
      "execution_count": 7,
      "outputs": [
        {
          "output_type": "stream",
          "text": [
            "<class 'pandas.core.frame.DataFrame'>\n",
            "Int64Index: 531286 entries, 0 to 534061\n",
            "Data columns (total 8 columns):\n",
            " #   Column                  Non-Null Count   Dtype  \n",
            "---  ------                  --------------   -----  \n",
            " 0   UserId                  531286 non-null  float64\n",
            " 1   TransactionId           531286 non-null  int64  \n",
            " 2   TransactionTime         531286 non-null  object \n",
            " 3   ItemCode                531286 non-null  int64  \n",
            " 4   ItemDescription         531286 non-null  object \n",
            " 5   NumberOfItemsPurchased  531286 non-null  int64  \n",
            " 6   CostPerItem             531286 non-null  float64\n",
            " 7   Country                 531286 non-null  object \n",
            "dtypes: float64(2), int64(3), object(3)\n",
            "memory usage: 36.5+ MB\n"
          ],
          "name": "stdout"
        }
      ]
    },
    {
      "cell_type": "code",
      "metadata": {
        "id": "Lqw7-bDgLoOA",
        "colab_type": "code",
        "colab": {
          "base_uri": "https://localhost:8080/",
          "height": 34
        },
        "outputId": "f3ed7ffa-352d-45c7-d21b-d11a5189bdb2"
      },
      "source": [
        "item_id_array = df_final['ItemCode'].unique()\n",
        "item_id_array.shape"
      ],
      "execution_count": 8,
      "outputs": [
        {
          "output_type": "execute_result",
          "data": {
            "text/plain": [
              "(3305,)"
            ]
          },
          "metadata": {
            "tags": []
          },
          "execution_count": 8
        }
      ]
    },
    {
      "cell_type": "code",
      "metadata": {
        "id": "g4dK-odZLoLt",
        "colab_type": "code",
        "colab": {
          "base_uri": "https://localhost:8080/",
          "height": 34
        },
        "outputId": "a2ca1123-4b30-44c1-afc0-fc7665b44985"
      },
      "source": [
        "item_description_array = df_final['ItemDescription'].unique()\n",
        "item_description_array.shape"
      ],
      "execution_count": 9,
      "outputs": [
        {
          "output_type": "execute_result",
          "data": {
            "text/plain": [
              "(4030,)"
            ]
          },
          "metadata": {
            "tags": []
          },
          "execution_count": 9
        }
      ]
    },
    {
      "cell_type": "code",
      "metadata": {
        "id": "kAsXZyBKOHP3",
        "colab_type": "code",
        "colab": {}
      },
      "source": [
        "df_final['TotalCost'] = df_final['NumberOfItemsPurchased']*df_final['CostPerItem']"
      ],
      "execution_count": 0,
      "outputs": []
    },
    {
      "cell_type": "code",
      "metadata": {
        "id": "fTAuCq0dOvdQ",
        "colab_type": "code",
        "colab": {}
      },
      "source": [
        "#grouping by TransactionId\n",
        "\n",
        "grouped = df_final.groupby('TransactionId')\n",
        "temp = pd.DataFrame()\n",
        "temp['UserId'] = grouped['UserId'].unique()\n",
        "temp['TransactionTime'] = grouped['TransactionTime'].unique()\n",
        "temp['ItemCode'] = grouped['ItemCode'].unique()\n",
        "temp['Country'] = grouped['Country'].unique()\n",
        "temp['TotalCost'] = grouped['TotalCost'].sum()\n",
        "\n",
        "temp['UserId'] = temp['UserId'].apply(lambda x:x[0])\n",
        "temp['TransactionTime'] = temp['TransactionTime'].apply(lambda x:x[0])\n",
        "temp['Country'] = temp['Country'].apply(lambda x:x[0])"
      ],
      "execution_count": 0,
      "outputs": []
    },
    {
      "cell_type": "code",
      "metadata": {
        "id": "EoxP25mQPC6H",
        "colab_type": "code",
        "colab": {
          "base_uri": "https://localhost:8080/",
          "height": 289
        },
        "outputId": "a6ef099e-87ee-4ad2-f54e-a6b5e86eecdb"
      },
      "source": [
        "temp.sort_index(axis=0)\n",
        "temp.reset_index(inplace=True)\n",
        "temp.head()"
      ],
      "execution_count": 12,
      "outputs": [
        {
          "output_type": "execute_result",
          "data": {
            "text/html": [
              "<div>\n",
              "<style scoped>\n",
              "    .dataframe tbody tr th:only-of-type {\n",
              "        vertical-align: middle;\n",
              "    }\n",
              "\n",
              "    .dataframe tbody tr th {\n",
              "        vertical-align: top;\n",
              "    }\n",
              "\n",
              "    .dataframe thead th {\n",
              "        text-align: right;\n",
              "    }\n",
              "</style>\n",
              "<table border=\"1\" class=\"dataframe\">\n",
              "  <thead>\n",
              "    <tr style=\"text-align: right;\">\n",
              "      <th></th>\n",
              "      <th>TransactionId</th>\n",
              "      <th>UserId</th>\n",
              "      <th>TransactionTime</th>\n",
              "      <th>ItemCode</th>\n",
              "      <th>Country</th>\n",
              "      <th>TotalCost</th>\n",
              "    </tr>\n",
              "  </thead>\n",
              "  <tbody>\n",
              "    <tr>\n",
              "      <th>0</th>\n",
              "      <td>5900015</td>\n",
              "      <td>374850.0</td>\n",
              "      <td>Mon Feb 12 04:26:00 IST 2018</td>\n",
              "      <td>[477792, 1492113, 1764609, 1772526, 1787583, 4...</td>\n",
              "      <td>United Kingdom</td>\n",
              "      <td>576.30</td>\n",
              "    </tr>\n",
              "    <tr>\n",
              "      <th>1</th>\n",
              "      <td>5900026</td>\n",
              "      <td>374850.0</td>\n",
              "      <td>Mon Feb 12 04:28:00 IST 2018</td>\n",
              "      <td>[475272, 475293]</td>\n",
              "      <td>United Kingdom</td>\n",
              "      <td>92.16</td>\n",
              "    </tr>\n",
              "    <tr>\n",
              "      <th>2</th>\n",
              "      <td>5900037</td>\n",
              "      <td>273987.0</td>\n",
              "      <td>Mon Feb 12 04:34:00 IST 2018</td>\n",
              "      <td>[1011927, 456834, 456855, 1782459, 477729, 477...</td>\n",
              "      <td>United Kingdom</td>\n",
              "      <td>1155.54</td>\n",
              "    </tr>\n",
              "    <tr>\n",
              "      <th>3</th>\n",
              "      <td>5900048</td>\n",
              "      <td>273987.0</td>\n",
              "      <td>Mon Feb 12 04:34:00 IST 2018</td>\n",
              "      <td>[481194, 481173, 481152, 482160]</td>\n",
              "      <td>United Kingdom</td>\n",
              "      <td>290.34</td>\n",
              "    </tr>\n",
              "    <tr>\n",
              "      <th>4</th>\n",
              "      <td>5900059</td>\n",
              "      <td>273987.0</td>\n",
              "      <td>Mon Feb 12 04:35:00 IST 2018</td>\n",
              "      <td>[456876]</td>\n",
              "      <td>United Kingdom</td>\n",
              "      <td>73.98</td>\n",
              "    </tr>\n",
              "  </tbody>\n",
              "</table>\n",
              "</div>"
            ],
            "text/plain": [
              "   TransactionId    UserId  ...         Country TotalCost\n",
              "0        5900015  374850.0  ...  United Kingdom    576.30\n",
              "1        5900026  374850.0  ...  United Kingdom     92.16\n",
              "2        5900037  273987.0  ...  United Kingdom   1155.54\n",
              "3        5900048  273987.0  ...  United Kingdom    290.34\n",
              "4        5900059  273987.0  ...  United Kingdom     73.98\n",
              "\n",
              "[5 rows x 6 columns]"
            ]
          },
          "metadata": {
            "tags": []
          },
          "execution_count": 12
        }
      ]
    },
    {
      "cell_type": "code",
      "metadata": {
        "id": "iavuxdrOPLNw",
        "colab_type": "code",
        "colab": {}
      },
      "source": [
        "df_final=temp\n",
        "df_final['TransactionTime'] = df_final['TransactionTime'].apply(lambda x:x.replace('2028', '2018'))"
      ],
      "execution_count": 0,
      "outputs": []
    },
    {
      "cell_type": "code",
      "metadata": {
        "id": "J4qWP0r3PXA4",
        "colab_type": "code",
        "colab": {
          "base_uri": "https://localhost:8080/",
          "height": 238
        },
        "outputId": "dad1afc9-e40e-4277-8ada-d01d6ee8e571"
      },
      "source": [
        "df_final.info()"
      ],
      "execution_count": 14,
      "outputs": [
        {
          "output_type": "stream",
          "text": [
            "<class 'pandas.core.frame.DataFrame'>\n",
            "RangeIndex: 23198 entries, 0 to 23197\n",
            "Data columns (total 6 columns):\n",
            " #   Column           Non-Null Count  Dtype  \n",
            "---  ------           --------------  -----  \n",
            " 0   TransactionId    23198 non-null  int64  \n",
            " 1   UserId           23198 non-null  float64\n",
            " 2   TransactionTime  23198 non-null  object \n",
            " 3   ItemCode         23198 non-null  object \n",
            " 4   Country          23198 non-null  object \n",
            " 5   TotalCost        23198 non-null  float64\n",
            "dtypes: float64(2), int64(1), object(3)\n",
            "memory usage: 1.1+ MB\n"
          ],
          "name": "stdout"
        }
      ]
    },
    {
      "cell_type": "markdown",
      "metadata": {
        "id": "PTlphZroEITA",
        "colab_type": "text"
      },
      "source": [
        "###Gettting dictionary of answers"
      ]
    },
    {
      "cell_type": "code",
      "metadata": {
        "id": "EQpESnrDTeYg",
        "colab_type": "code",
        "colab": {
          "base_uri": "https://localhost:8080/",
          "height": 54
        },
        "outputId": "88a314f5-b1bc-4115-ee11-6dba04e8baba"
      },
      "source": [
        "from collections import Counter\n",
        "from itertools import combinations\n",
        "\n",
        "count=Counter()\n",
        "for row in df_final['ItemCode']:\n",
        "    l1 = [int(i) for i in row]\n",
        "    l1.sort()\n",
        "    count.update(Counter(combinations(l1,2)))\n",
        "print(count.most_common(10))"
      ],
      "execution_count": 23,
      "outputs": [
        {
          "output_type": "stream",
          "text": [
            "[((470106, 1787079), 967), ((460551, 1787079), 876), ((470631, 1787079), 836), ((476637, 476679), 783), ((435225, 1787079), 706), ((487263, 1787079), 705), ((487179, 1787079), 669), ((435225, 470043), 663), ((435225, 435267), 648), ((434952, 1787079), 647)]\n"
          ],
          "name": "stdout"
        }
      ]
    },
    {
      "cell_type": "code",
      "metadata": {
        "id": "698PJzlDZQHX",
        "colab_type": "code",
        "colab": {
          "base_uri": "https://localhost:8080/",
          "height": 34
        },
        "outputId": "3b239b91-f49f-4af4-867b-0a7cc8f89b00"
      },
      "source": [
        "len(count.most_common())"
      ],
      "execution_count": 26,
      "outputs": [
        {
          "output_type": "execute_result",
          "data": {
            "text/plain": [
              "3103986"
            ]
          },
          "metadata": {
            "tags": []
          },
          "execution_count": 26
        }
      ]
    },
    {
      "cell_type": "markdown",
      "metadata": {
        "id": "gltYkJDFZ_hC",
        "colab_type": "text"
      },
      "source": [
        "Total of 3103986 combinations of ItemCodes"
      ]
    },
    {
      "cell_type": "code",
      "metadata": {
        "id": "IUrYca21TeVs",
        "colab_type": "code",
        "colab": {
          "base_uri": "https://localhost:8080/",
          "height": 34
        },
        "outputId": "66c670e9-f92a-4417-b25b-0954aad69dcd"
      },
      "source": [
        "item_id_list = list(item_id_array)\n",
        "item_id_list = [int(i) for i in item_id_list]\n",
        "len(item_id_list)"
      ],
      "execution_count": 27,
      "outputs": [
        {
          "output_type": "execute_result",
          "data": {
            "text/plain": [
              "3305"
            ]
          },
          "metadata": {
            "tags": []
          },
          "execution_count": 27
        }
      ]
    },
    {
      "cell_type": "code",
      "metadata": {
        "id": "yPHrit0yTeTr",
        "colab_type": "code",
        "colab": {
          "base_uri": "https://localhost:8080/",
          "height": 459
        },
        "outputId": "e393081e-b047-48a9-b88a-c5701705dec3"
      },
      "source": [
        "%%time\n",
        "\n",
        "dict_={}\n",
        "counting=-1\n",
        "for item in item_id_list:\n",
        "    counting+=1\n",
        "    check_count=0\n",
        "    dict_[item] = []\n",
        "    for key, value in count.most_common():\n",
        "        if item in key:\n",
        "            list_ = list(key)\n",
        "            list_.remove(item)\n",
        "            obj=list_[0]\n",
        "            dict_[item].append((obj, value))\n",
        "            check_count+=1\n",
        "        if check_count>=5 and counting%300==0:\n",
        "            print(counting)\n",
        "            print(item, dict_[item])\n",
        "            break"
      ],
      "execution_count": 30,
      "outputs": [
        {
          "output_type": "stream",
          "text": [
            "0\n",
            "465549 [(465570, 113), (1787079, 112), (1787583, 110), (1732122, 99), (470883, 98)]\n",
            "300\n",
            "466032 [(466053, 193), (466011, 179), (477267, 118), (477246, 98), (477288, 90)]\n",
            "600\n",
            "340935 [(1787079, 81), (1787583, 72), (445452, 71), (466137, 70), (461853, 68)]\n",
            "900\n",
            "481614 [(481593, 42), (477162, 27), (482181, 25), (482160, 23), (477120, 23)]\n",
            "1200\n",
            "473403 [(473424, 31), (473319, 26), (472269, 22), (473214, 20), (473487, 20)]\n",
            "1500\n",
            "444276 [(469707, 168), (1787079, 121), (999411, 112), (435225, 98), (445452, 91)]\n",
            "1800\n",
            "434784 [(434805, 18), (435099, 9), (470883, 9), (482160, 9), (469938, 9)]\n",
            "2100\n",
            "451689 [(462609, 132), (451647, 126), (462567, 108), (451668, 98), (1787079, 87)]\n",
            "2400\n",
            "492870 [(492849, 27), (463806, 20), (474117, 20), (490224, 19), (493353, 19)]\n",
            "2700\n",
            "1782354 [(998886, 8), (1787079, 7), (445452, 7), (442680, 6), (1784538, 6)]\n",
            "3000\n",
            "436023 [(436002, 10), (436044, 9), (436065, 9), (436086, 8), (464331, 7)]\n",
            "3300\n",
            "747789 [(63, 1), (212835, 1), (315756, 1), (315924, 1), (340977, 1)]\n",
            "CPU times: user 2h 44min 12s, sys: 44.5 s, total: 2h 44min 57s\n",
            "Wall time: 2h 44min 55s\n"
          ],
          "name": "stdout"
        }
      ]
    },
    {
      "cell_type": "code",
      "metadata": {
        "id": "AaUyhKAHDhbp",
        "colab_type": "code",
        "colab": {}
      },
      "source": [
        "import pickle\n",
        "\n",
        "with open('answer_dict.pickle', 'wb') as handle:\n",
        "    pickle.dump(dict_, handle, protocol=pickle.HIGHEST_PROTOCOL)"
      ],
      "execution_count": 0,
      "outputs": []
    },
    {
      "cell_type": "code",
      "metadata": {
        "id": "dC30uN25DtpQ",
        "colab_type": "code",
        "colab": {}
      },
      "source": [
        "with open('answer_dict.pickle', 'rb') as handle:\n",
        "    answer_dict = pickle.load(handle)"
      ],
      "execution_count": 0,
      "outputs": []
    },
    {
      "cell_type": "code",
      "metadata": {
        "id": "BjQX5sHhD1pU",
        "colab_type": "code",
        "colab": {
          "base_uri": "https://localhost:8080/",
          "height": 34
        },
        "outputId": "8fc828af-6862-43b1-ed1e-2550599ae695"
      },
      "source": [
        "answer_dict==dict_"
      ],
      "execution_count": 34,
      "outputs": [
        {
          "output_type": "execute_result",
          "data": {
            "text/plain": [
              "True"
            ]
          },
          "metadata": {
            "tags": []
          },
          "execution_count": 34
        }
      ]
    },
    {
      "cell_type": "code",
      "metadata": {
        "id": "1QDOoqTHD6UQ",
        "colab_type": "code",
        "colab": {
          "base_uri": "https://localhost:8080/",
          "height": 34
        },
        "outputId": "0510f3e6-a1e4-404c-dfc2-f90b42ce91d4"
      },
      "source": [
        "print(len(answer_dict))"
      ],
      "execution_count": 37,
      "outputs": [
        {
          "output_type": "stream",
          "text": [
            "3305\n"
          ],
          "name": "stdout"
        }
      ]
    },
    {
      "cell_type": "markdown",
      "metadata": {
        "id": "U-flAsUfERfR",
        "colab_type": "text"
      },
      "source": [
        "**answer_dict.pickle** contains the answer dictionary. For each ItemCode it returns a list of 5 tuples with an ItemCode and number of times it was bought with the key. See display_function towards the end of notebook for displaying the results."
      ]
    },
    {
      "cell_type": "markdown",
      "metadata": {
        "id": "w2wDS1RhECeT",
        "colab_type": "text"
      },
      "source": [
        "###Getting labels of ItemCode"
      ]
    },
    {
      "cell_type": "code",
      "metadata": {
        "colab_type": "code",
        "outputId": "f35107ae-3a94-465f-ae28-ae62f6eb6162",
        "id": "B3mn94uEy1Pk",
        "colab": {
          "base_uri": "https://localhost:8080/",
          "height": 34
        }
      },
      "source": [
        "df_final2=pd.read_csv('cleaned_data.csv')\n",
        "df_final2.shape"
      ],
      "execution_count": 0,
      "outputs": [
        {
          "output_type": "execute_result",
          "data": {
            "text/plain": [
              "(534062, 8)"
            ]
          },
          "metadata": {
            "tags": []
          },
          "execution_count": 281
        }
      ]
    },
    {
      "cell_type": "code",
      "metadata": {
        "colab_type": "code",
        "id": "rNeWHP-Ly1Po",
        "colab": {}
      },
      "source": [
        "df_final2 = df_final2[df_final2['ItemCode']!=-1]"
      ],
      "execution_count": 0,
      "outputs": []
    },
    {
      "cell_type": "code",
      "metadata": {
        "colab_type": "code",
        "outputId": "1ef410dd-16b2-4810-cbdf-40748a8c1477",
        "id": "AWaIUx77y1Pr",
        "colab": {
          "base_uri": "https://localhost:8080/",
          "height": 272
        }
      },
      "source": [
        "df_final2.info()"
      ],
      "execution_count": 0,
      "outputs": [
        {
          "output_type": "stream",
          "text": [
            "<class 'pandas.core.frame.DataFrame'>\n",
            "Int64Index: 531286 entries, 0 to 534061\n",
            "Data columns (total 8 columns):\n",
            " #   Column                  Non-Null Count   Dtype  \n",
            "---  ------                  --------------   -----  \n",
            " 0   UserId                  531286 non-null  float64\n",
            " 1   TransactionId           531286 non-null  int64  \n",
            " 2   TransactionTime         531286 non-null  object \n",
            " 3   ItemCode                531286 non-null  int64  \n",
            " 4   ItemDescription         531286 non-null  object \n",
            " 5   NumberOfItemsPurchased  531286 non-null  int64  \n",
            " 6   CostPerItem             531286 non-null  float64\n",
            " 7   Country                 531286 non-null  object \n",
            "dtypes: float64(2), int64(3), object(3)\n",
            "memory usage: 36.5+ MB\n"
          ],
          "name": "stdout"
        }
      ]
    },
    {
      "cell_type": "code",
      "metadata": {
        "id": "beWgiJ-8hXU9",
        "colab_type": "code",
        "colab": {}
      },
      "source": [
        "label_dict={}\n",
        "checkcount=0\n",
        "for i in range(df_final2.shape[0]):\n",
        "    row = df_final2.iloc[i]\n",
        "    if row['ItemCode'] in label_dict:\n",
        "        if row['ItemDescription'] not in label_dict[row['ItemCode']]:\n",
        "            label_dict[row['ItemCode']].append(row['ItemDescription'])\n",
        "            checkcount+=1\n",
        "            print(checkcount)\n",
        "    else:\n",
        "        label_dict[row['ItemCode']]=[]\n",
        "        label_dict[row['ItemCode']].append(row['ItemDescription'])"
      ],
      "execution_count": 0,
      "outputs": []
    },
    {
      "cell_type": "code",
      "metadata": {
        "colab_type": "code",
        "outputId": "12e82c5b-4b48-4ba1-d887-9ef0fad3b4ba",
        "id": "qSObfvW7y1Pw",
        "colab": {
          "base_uri": "https://localhost:8080/",
          "height": 34
        }
      },
      "source": [
        "item_id_array = df_final2['ItemCode'].unique()\n",
        "item_id_array.shape"
      ],
      "execution_count": 0,
      "outputs": [
        {
          "output_type": "execute_result",
          "data": {
            "text/plain": [
              "(3305,)"
            ]
          },
          "metadata": {
            "tags": []
          },
          "execution_count": 293
        }
      ]
    },
    {
      "cell_type": "code",
      "metadata": {
        "colab_type": "code",
        "outputId": "1c19adaf-620a-43a3-e36d-0773b1daf04f",
        "id": "dkvI7vvIy1P0",
        "colab": {
          "base_uri": "https://localhost:8080/",
          "height": 34
        }
      },
      "source": [
        "item_description_array = df_final2['ItemDescription'].unique()\n",
        "item_description_array.shape"
      ],
      "execution_count": 0,
      "outputs": [
        {
          "output_type": "execute_result",
          "data": {
            "text/plain": [
              "(4030,)"
            ]
          },
          "metadata": {
            "tags": []
          },
          "execution_count": 294
        }
      ]
    },
    {
      "cell_type": "code",
      "metadata": {
        "id": "6R1PY_GzwGsy",
        "colab_type": "code",
        "colab": {}
      },
      "source": [
        "import pickle\n",
        "\n",
        "with open('label_dict.pickle', 'wb') as handle:\n",
        "    pickle.dump(label_dict, handle, protocol=pickle.HIGHEST_PROTOCOL)"
      ],
      "execution_count": 0,
      "outputs": []
    },
    {
      "cell_type": "code",
      "metadata": {
        "id": "MdU6fSbfw6ue",
        "colab_type": "code",
        "colab": {}
      },
      "source": [
        "with open('label_dict.pickle', 'rb') as handle:\n",
        "    b = pickle.load(handle)"
      ],
      "execution_count": 0,
      "outputs": []
    },
    {
      "cell_type": "code",
      "metadata": {
        "id": "cKxTXspByYxW",
        "colab_type": "code",
        "outputId": "a05a0e92-c47b-40c9-ac87-c576a2024ede",
        "colab": {
          "base_uri": "https://localhost:8080/",
          "height": 34
        }
      },
      "source": [
        "label_dict==b"
      ],
      "execution_count": 0,
      "outputs": [
        {
          "output_type": "execute_result",
          "data": {
            "text/plain": [
              "True"
            ]
          },
          "metadata": {
            "tags": []
          },
          "execution_count": 304
        }
      ]
    },
    {
      "cell_type": "markdown",
      "metadata": {
        "id": "tnQKk6L00PGU",
        "colab_type": "text"
      },
      "source": [
        "**label_dict.pickle** contains the dictionary that maps 'ItemCode' to corresponding 'ItemDescriptions'. The 'ItemDescriptions' are given as lists since there are cases of multiple item descriptions for a given item code. See example below."
      ]
    },
    {
      "cell_type": "code",
      "metadata": {
        "id": "CmGzVqrZ1ETy",
        "colab_type": "code",
        "outputId": "b12cf9a7-19fa-41b9-8667-b0c2da65f1b5",
        "colab": {
          "base_uri": "https://localhost:8080/",
          "height": 34
        }
      },
      "source": [
        " b[481635][0]"
      ],
      "execution_count": 0,
      "outputs": [
        {
          "output_type": "execute_result",
          "data": {
            "text/plain": [
              "'BAKING MOULD ROSE MILK CHOCOLATE'"
            ]
          },
          "metadata": {
            "tags": []
          },
          "execution_count": 312
        }
      ]
    },
    {
      "cell_type": "markdown",
      "metadata": {
        "id": "jUbbpV__FBQC",
        "colab_type": "text"
      },
      "source": [
        "###Answers display"
      ]
    },
    {
      "cell_type": "code",
      "metadata": {
        "id": "EEnwymW6F1Ig",
        "colab_type": "code",
        "colab": {}
      },
      "source": [
        "with open('answer_dict.pickle', 'rb') as handle:\n",
        "    answer_dict = pickle.load(handle)"
      ],
      "execution_count": 0,
      "outputs": []
    },
    {
      "cell_type": "code",
      "metadata": {
        "id": "gS-Rab0uFy1h",
        "colab_type": "code",
        "colab": {}
      },
      "source": [
        "with open('label_dict.pickle', 'rb') as handle:\n",
        "    b = pickle.load(handle)"
      ],
      "execution_count": 0,
      "outputs": []
    },
    {
      "cell_type": "code",
      "metadata": {
        "id": "2mg3g37gFDjW",
        "colab_type": "code",
        "colab": {}
      },
      "source": [
        "def display_function(itemcode, answer_dict, label_dict):\n",
        "    print(str(itemcode).center(40,'_'))\n",
        "    print()\n",
        "    print(label_dict[itemcode][0].center(40,'_'))\n",
        "    print()\n",
        "    print('Frequently bought together items')\n",
        "    print()\n",
        "    for i in range(5):\n",
        "        print(f'\\t{answer_dict[itemcode][i][0]}\\t{label_dict[answer_dict[itemcode][i][0]][0]}')\n",
        "        print(f'\\t\\tBought together {answer_dict[itemcode][i][1]} times')\n",
        "        print()"
      ],
      "execution_count": 0,
      "outputs": []
    },
    {
      "cell_type": "markdown",
      "metadata": {
        "id": "a3j-p8kiLxhU",
        "colab_type": "text"
      },
      "source": [
        "Examples are given below:\n",
        "\n"
      ]
    },
    {
      "cell_type": "code",
      "metadata": {
        "id": "UHtAg1kIFh14",
        "colab_type": "code",
        "colab": {
          "base_uri": "https://localhost:8080/",
          "height": 374
        },
        "outputId": "59c6e565-fdab-45a7-a681-b96b5d69df5c"
      },
      "source": [
        "try:\n",
        "    display_function(481635, answer_dict=answer_dict, label_dict=b)\n",
        "except:\n",
        "    print('*****Invalid ItemId*****')"
      ],
      "execution_count": 41,
      "outputs": [
        {
          "output_type": "stream",
          "text": [
            "_________________481635_________________\n",
            "\n",
            "____BAKING MOULD ROSE MILK CHOCOLATE____\n",
            "\n",
            "Frequently bought together items\n",
            "\n",
            "\t481530\tBAKING MOULD HEART MILK CHOCOLATE\n",
            "\t\tBought together 35 times\n",
            "\n",
            "\t481677\tBAKING MOULD CHOCOLATE CUPCAKES\n",
            "\t\tBought together 26 times\n",
            "\n",
            "\t482181\tJAM MAKING SET PRINTED\n",
            "\t\tBought together 24 times\n",
            "\n",
            "\t481551\tBAKING MOULD HEART WHITE CHOCOLATE\n",
            "\t\tBought together 23 times\n",
            "\n",
            "\t482160\tJAM MAKING SET WITH JARS\n",
            "\t\tBought together 23 times\n",
            "\n"
          ],
          "name": "stdout"
        }
      ]
    },
    {
      "cell_type": "code",
      "metadata": {
        "id": "jgjUjTYEGI2p",
        "colab_type": "code",
        "colab": {
          "base_uri": "https://localhost:8080/",
          "height": 374
        },
        "outputId": "10c2b6bf-5867-4ecc-ff51-eef33e91ff55"
      },
      "source": [
        "try:\n",
        "    display_function(464226, answer_dict=answer_dict, label_dict=b)\n",
        "except:\n",
        "    print('*****Invalid ItemId*****')"
      ],
      "execution_count": 42,
      "outputs": [
        {
          "output_type": "stream",
          "text": [
            "_________________464226_________________\n",
            "\n",
            "_____MIRROR MOSAIC HURRICANE LAMP ______\n",
            "\n",
            "Frequently bought together items\n",
            "\n",
            "\t1787079\tJUMBO  BAG BAROQUE BLACK WHITE\n",
            "\t\tBought together 30 times\n",
            "\n",
            "\t465738\tVICTORIAN GLASS HANGING T-LIGHT\n",
            "\t\tBought together 29 times\n",
            "\n",
            "\t482181\tJAM MAKING SET PRINTED\n",
            "\t\tBought together 29 times\n",
            "\n",
            "\t460635\tSUKI  SHOULDER BAG\n",
            "\t\tBought together 28 times\n",
            "\n",
            "\t447594\tSMALL GLASS HEART TRINKET POT\n",
            "\t\tBought together 27 times\n",
            "\n"
          ],
          "name": "stdout"
        }
      ]
    },
    {
      "cell_type": "code",
      "metadata": {
        "id": "2KBY4zsWL0PF",
        "colab_type": "code",
        "colab": {
          "base_uri": "https://localhost:8080/",
          "height": 374
        },
        "outputId": "e55caeb2-485c-4b11-9fce-0e295b46a32f"
      },
      "source": [
        "try:\n",
        "    display_function(471996, answer_dict=answer_dict, label_dict=b)\n",
        "except:\n",
        "    print('*****Invalid ItemId*****')"
      ],
      "execution_count": 43,
      "outputs": [
        {
          "output_type": "stream",
          "text": [
            "_________________471996_________________\n",
            "\n",
            "____EMPIRE UNION JACK TV DINNER TRAY____\n",
            "\n",
            "Frequently bought together items\n",
            "\n",
            "\t1787079\tJUMBO  BAG BAROQUE BLACK WHITE\n",
            "\t\tBought together 54 times\n",
            "\n",
            "\t466137\tSMALL POPCORN HOLDER\n",
            "\t\tBought together 45 times\n",
            "\n",
            "\t1787583\tWHITE HANGING HEART T-LIGHT HOLDER\n",
            "\t\tBought together 43 times\n",
            "\n",
            "\t470883\tREGENCY CAKESTAND 3 TIER\n",
            "\t\tBought together 41 times\n",
            "\n",
            "\t475986\tRECIPE BOX PANTRY YELLOW DESIGN\n",
            "\t\tBought together 41 times\n",
            "\n"
          ],
          "name": "stdout"
        }
      ]
    },
    {
      "cell_type": "code",
      "metadata": {
        "id": "BfovD2f7Od--",
        "colab_type": "code",
        "colab": {
          "base_uri": "https://localhost:8080/",
          "height": 374
        },
        "outputId": "8ca1cbcd-a37d-43fa-bce3-2ac135c3d3df"
      },
      "source": [
        "try:\n",
        "    display_function(1787079, answer_dict=answer_dict, label_dict=b)\n",
        "except:\n",
        "    print('*****Invalid ItemId*****')"
      ],
      "execution_count": 44,
      "outputs": [
        {
          "output_type": "stream",
          "text": [
            "________________1787079_________________\n",
            "\n",
            "_____JUMBO  BAG BAROQUE BLACK WHITE_____\n",
            "\n",
            "Frequently bought together items\n",
            "\n",
            "\t470106\tJUMBO BAG PINK POLKADOT\n",
            "\t\tBought together 967 times\n",
            "\n",
            "\t460551\tJUMBO STORAGE BAG SUKI\n",
            "\t\tBought together 876 times\n",
            "\n",
            "\t470631\tJUMBO SHOPPER VINTAGE RED PAISLEY\n",
            "\t\tBought together 836 times\n",
            "\n",
            "\t435225\tLUNCH BAG RED RETROSPOT\n",
            "\t\tBought together 706 times\n",
            "\n",
            "\t487263\tJUMBO BAG VINTAGE DOILY \n",
            "\t\tBought together 705 times\n",
            "\n"
          ],
          "name": "stdout"
        }
      ]
    },
    {
      "cell_type": "code",
      "metadata": {
        "id": "gvzM1vKulvPV",
        "colab_type": "code",
        "colab": {
          "base_uri": "https://localhost:8080/",
          "height": 374
        },
        "outputId": "6e4539c8-1295-4b04-b643-de06d08e4fdc"
      },
      "source": [
        "try:\n",
        "    display_function(465549, answer_dict=answer_dict, label_dict=b)\n",
        "except:\n",
        "    print('*****Invalid ItemId*****')"
      ],
      "execution_count": 45,
      "outputs": [
        {
          "output_type": "stream",
          "text": [
            "_________________465549_________________\n",
            "\n",
            "____FAMILY ALBUM WHITE PICTURE FRAME____\n",
            "\n",
            "Frequently bought together items\n",
            "\n",
            "\t465570\tPICTURE FRAME WOOD TRIPLE PORTRAIT\n",
            "\t\tBought together 113 times\n",
            "\n",
            "\t1787079\tJUMBO  BAG BAROQUE BLACK WHITE\n",
            "\t\tBought together 112 times\n",
            "\n",
            "\t1787583\tWHITE HANGING HEART T-LIGHT HOLDER\n",
            "\t\tBought together 110 times\n",
            "\n",
            "\t1732122\tWOODEN PICTURE FRAME WHITE FINISH\n",
            "\t\tBought together 99 times\n",
            "\n",
            "\t470883\tREGENCY CAKESTAND 3 TIER\n",
            "\t\tBought together 98 times\n",
            "\n"
          ],
          "name": "stdout"
        }
      ]
    },
    {
      "cell_type": "code",
      "metadata": {
        "id": "eiFRw5SYl1mX",
        "colab_type": "code",
        "colab": {
          "base_uri": "https://localhost:8080/",
          "height": 374
        },
        "outputId": "ac315c14-f9ba-451b-e032-376daeedaa18"
      },
      "source": [
        "try:\n",
        "    display_function(42, answer_dict=answer_dict, label_dict=b)\n",
        "except:\n",
        "    print('*****Invalid ItemId*****')"
      ],
      "execution_count": 46,
      "outputs": [
        {
          "output_type": "stream",
          "text": [
            "___________________42___________________\n",
            "\n",
            "________________CARRIAGE________________\n",
            "\n",
            "Frequently bought together items\n",
            "\n",
            "\t470883\tREGENCY CAKESTAND 3 TIER\n",
            "\t\tBought together 21 times\n",
            "\n",
            "\t1787583\tWHITE HANGING HEART T-LIGHT HOLDER\n",
            "\t\tBought together 18 times\n",
            "\n",
            "\t457590\tVINTAGE SNAP CARDS\n",
            "\t\tBought together 16 times\n",
            "\n",
            "\t482160\tJAM MAKING SET WITH JARS\n",
            "\t\tBought together 16 times\n",
            "\n",
            "\t478086\tPHOTO FRAME CORNICE\n",
            "\t\tBought together 15 times\n",
            "\n"
          ],
          "name": "stdout"
        }
      ]
    },
    {
      "cell_type": "code",
      "metadata": {
        "id": "sXfwm0HCl8oX",
        "colab_type": "code",
        "colab": {
          "base_uri": "https://localhost:8080/",
          "height": 68
        },
        "outputId": "402b0269-e05f-40da-aad9-b2b07a6e1f7e"
      },
      "source": [
        "try:\n",
        "    display_function(-1, answer_dict=answer_dict, label_dict=b)\n",
        "except:\n",
        "    print('*****Invalid ItemId*****')"
      ],
      "execution_count": 47,
      "outputs": [
        {
          "output_type": "stream",
          "text": [
            "___________________-1___________________\n",
            "\n",
            "*****Invalid ItemId*****\n"
          ],
          "name": "stdout"
        }
      ]
    },
    {
      "cell_type": "markdown",
      "metadata": {
        "id": "ggTUE23fng-K",
        "colab_type": "text"
      },
      "source": [
        "**answer_dict.pickle** <br/>\n",
        "contains final answers dictionary."
      ]
    }
  ]
}